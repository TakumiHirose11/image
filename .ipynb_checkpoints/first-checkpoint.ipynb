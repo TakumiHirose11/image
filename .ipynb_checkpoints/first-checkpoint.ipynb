{
 "cells": [
  {
   "cell_type": "code",
   "execution_count": 12,
   "metadata": {},
   "outputs": [],
   "source": [
    "import numpy as np\n",
    "\n",
    "def create_matrix(x):\n",
    "    x0 = np.ones([x.shape[0],1])\n",
    "    return np.hstack([x0, x])"
   ]
  },
  {
   "cell_type": "code",
   "execution_count": 13,
   "metadata": {},
   "outputs": [],
   "source": [
    "def sigmoid(X, parameter):\n",
    "    return 1 /(1 + np.exp(-np.dot(X, parameter)))"
   ]
  },
  {
   "cell_type": "code",
   "execution_count": 17,
   "metadata": {},
   "outputs": [],
   "source": [
    "def logistic_regression(X, t):\n",
    "    LNR = 1e-1\n",
    "    loop = 50\n",
    "    count = 1\n",
    "    parameter = np.random.rand(3)\n",
    "    \n",
    "    for i in range(loop):\n",
    "        parameter = parameter - LNR*np.dot(sigmoid(X,parameter)- t, X)\n",
    "        if (count == 1 or count % 10 ==0):\n",
    "            print(\"{}回: parameter = {}\".format(count, parameter))\n",
    "        count += 1\n",
    "    return parameter"
   ]
  },
  {
   "cell_type": "code",
   "execution_count": 18,
   "metadata": {
    "scrolled": true
   },
   "outputs": [
    {
     "name": "stdout",
     "output_type": "stream",
     "text": [
      "1回: parameter = [0.43946633 0.1161482  0.29608207]\n",
      "10回: parameter = [-0.5230421   0.07258196  0.21668612]\n",
      "20回: parameter = [-1.00714692  0.29268634  0.40656286]\n",
      "30回: parameter = [-1.34237288  0.53718027  0.62825293]\n",
      "40回: parameter = [-1.62573046  0.76150421  0.83481725]\n",
      "50回: parameter = [-1.87984003  0.96209632  1.02143083]\n"
     ]
    }
   ],
   "source": [
    "# AND gate\n",
    "x = np.array([[0,0],[0,1],[1,0],[1,1]])\n",
    "t = np.array([0,0,0,1])\n",
    "X = create_matrix(x)\n",
    "parameter = logistic_regression(X,t)"
   ]
  },
  {
   "cell_type": "code",
   "execution_count": 19,
   "metadata": {},
   "outputs": [
    {
     "name": "stderr",
     "output_type": "stream",
     "text": [
      "/var/folders/ks/dtzw0jpn5_zd7nz4v999tjm00000gn/T/ipykernel_37907/137009639.py:1: DeprecationWarning: `np.int` is a deprecated alias for the builtin `int`. To silence this warning, use `int` by itself. Doing this will not modify any behavior and is safe. When replacing `np.int`, you may wish to use e.g. `np.int64` or `np.int32` to specify the precision. If you wish to review your current use, check the release note link for additional information.\n",
      "Deprecated in NumPy 1.20; for more details and guidance: https://numpy.org/devdocs/release/1.20.0-notes.html#deprecations\n",
      "  (sigmoid(create_matrix(np.array([[0,0],[0,1],[0,0],[1,1]])), parameter)>= 0.5).astype(np.int)\n"
     ]
    },
    {
     "data": {
      "text/plain": [
       "array([0, 0, 0, 1])"
      ]
     },
     "execution_count": 19,
     "metadata": {},
     "output_type": "execute_result"
    }
   ],
   "source": [
    "(sigmoid(create_matrix(np.array([[0,0],[0,1],[0,0],[1,1]])), parameter)>= 0.5).astype(np.int)"
   ]
  },
  {
   "cell_type": "code",
   "execution_count": 20,
   "metadata": {
    "scrolled": false
   },
   "outputs": [
    {
     "name": "stdout",
     "output_type": "stream",
     "text": [
      "1回: parameter = [0.26341271 0.47212997 0.32449978]\n",
      "10回: parameter = [0.59670386 0.12574489 0.00542783]\n",
      "20回: parameter = [ 0.94471096 -0.19514527 -0.29114197]\n",
      "30回: parameter = [ 1.26057021 -0.4673506  -0.54421625]\n",
      "40回: parameter = [ 1.54629152 -0.70290891 -0.76473024]\n",
      "50回: parameter = [ 1.80614543 -0.91013263 -0.96009666]\n"
     ]
    }
   ],
   "source": [
    "# NAND gate\n",
    "x = np.array([[0,0],[0,1],[1,0],[1,1]])\n",
    "t = np.array([1,1,1,0])\n",
    "X = create_matrix(x)\n",
    "parameter = logistic_regression(X,t)"
   ]
  },
  {
   "cell_type": "code",
   "execution_count": 21,
   "metadata": {},
   "outputs": [
    {
     "name": "stderr",
     "output_type": "stream",
     "text": [
      "/var/folders/ks/dtzw0jpn5_zd7nz4v999tjm00000gn/T/ipykernel_37907/137009639.py:1: DeprecationWarning: `np.int` is a deprecated alias for the builtin `int`. To silence this warning, use `int` by itself. Doing this will not modify any behavior and is safe. When replacing `np.int`, you may wish to use e.g. `np.int64` or `np.int32` to specify the precision. If you wish to review your current use, check the release note link for additional information.\n",
      "Deprecated in NumPy 1.20; for more details and guidance: https://numpy.org/devdocs/release/1.20.0-notes.html#deprecations\n",
      "  (sigmoid(create_matrix(np.array([[0,0],[0,1],[0,0],[1,1]])), parameter)>= 0.5).astype(np.int)\n"
     ]
    },
    {
     "data": {
      "text/plain": [
       "array([1, 1, 1, 0])"
      ]
     },
     "execution_count": 21,
     "metadata": {},
     "output_type": "execute_result"
    }
   ],
   "source": [
    "(sigmoid(create_matrix(np.array([[0,0],[0,1],[0,0],[1,1]])), parameter)>= 0.5).astype(np.int)"
   ]
  },
  {
   "cell_type": "code",
   "execution_count": 24,
   "metadata": {
    "scrolled": false
   },
   "outputs": [
    {
     "name": "stdout",
     "output_type": "stream",
     "text": [
      "1回: parameter = [0.85016386 0.42000982 0.43419872]\n",
      "10回: parameter = [0.71292078 0.71987869 0.73212283]\n",
      "20回: parameter = [0.52077591 0.99495142 1.00546707]\n",
      "30回: parameter = [0.33119565 1.23719711 1.24628505]\n",
      "40回: parameter = [0.15707731 1.45725201 1.46514188]\n",
      "50回: parameter = [6.34310918e-04 1.65995445e+00 1.66683332e+00]\n"
     ]
    }
   ],
   "source": [
    "# OR gate\n",
    "x = np.array([[0,0],[0,1],[1,0],[1,1]])\n",
    "t = np.array([0,1,1,1])\n",
    "X = create_matrix(x)\n",
    "parameter = logistic_regression(X,t)"
   ]
  },
  {
   "cell_type": "code",
   "execution_count": 25,
   "metadata": {},
   "outputs": [
    {
     "name": "stderr",
     "output_type": "stream",
     "text": [
      "/var/folders/ks/dtzw0jpn5_zd7nz4v999tjm00000gn/T/ipykernel_37907/137009639.py:1: DeprecationWarning: `np.int` is a deprecated alias for the builtin `int`. To silence this warning, use `int` by itself. Doing this will not modify any behavior and is safe. When replacing `np.int`, you may wish to use e.g. `np.int64` or `np.int32` to specify the precision. If you wish to review your current use, check the release note link for additional information.\n",
      "Deprecated in NumPy 1.20; for more details and guidance: https://numpy.org/devdocs/release/1.20.0-notes.html#deprecations\n",
      "  (sigmoid(create_matrix(np.array([[0,0],[0,1],[0,0],[1,1]])), parameter)>= 0.5).astype(np.int)\n"
     ]
    },
    {
     "data": {
      "text/plain": [
       "array([1, 1, 1, 1])"
      ]
     },
     "execution_count": 25,
     "metadata": {},
     "output_type": "execute_result"
    }
   ],
   "source": [
    "(sigmoid(create_matrix(np.array([[0,0],[0,1],[0,0],[1,1]])), parameter)>= 0.5).astype(np.int)"
   ]
  },
  {
   "cell_type": "code",
   "execution_count": null,
   "metadata": {},
   "outputs": [],
   "source": []
  }
 ],
 "metadata": {
  "interpreter": {
   "hash": "ebeb28e6b13eca9129251e1a57a607330dbc2c0e4d49cedd0aa8c47b6d160812"
  },
  "kernelspec": {
   "display_name": "Python 3 (ipykernel)",
   "language": "python",
   "name": "python3"
  },
  "language_info": {
   "codemirror_mode": {
    "name": "ipython",
    "version": 3
   },
   "file_extension": ".py",
   "mimetype": "text/x-python",
   "name": "python",
   "nbconvert_exporter": "python",
   "pygments_lexer": "ipython3",
   "version": "3.8.13"
  }
 },
 "nbformat": 4,
 "nbformat_minor": 2
}
