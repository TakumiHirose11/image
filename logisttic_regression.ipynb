{
 "cells": [
  {
   "cell_type": "code",
   "execution_count": 1,
   "metadata": {},
   "outputs": [],
   "source": [
    "import numpy as np\n",
    "\n",
    "def create_matrix(x):\n",
    "    x0 = np.ones([x.shape[0],1])\n",
    "    return np.hstack([x0, x])"
   ]
  },
  {
   "cell_type": "code",
   "execution_count": 10,
   "metadata": {},
   "outputs": [],
   "source": [
    "def sigmoid(X, parameter):\n",
    "    return 1 /(1 + np.exp(-np.dot(X, parameter)))"
   ]
  },
  {
   "cell_type": "code",
   "execution_count": 3,
   "metadata": {},
   "outputs": [],
   "source": [
    "def logistic_regression(X, t):\n",
    "    LNR = 1e-1\n",
    "    loop = 50\n",
    "    count = 1\n",
    "    parameter = np.random.rand(3)\n",
    "    \n",
    "    for i in range(loop):\n",
    "        parameter = parameter - LNR*np.dot(sigmoid(X,parameter)- t, X)\n",
    "        if (count == 1 or count % 10 ==0):\n",
    "            print(\"{}回: parameter = {}\".format(count, parameter))\n",
    "        count += 1\n",
    "    return parameter"
   ]
  },
  {
   "cell_type": "code",
   "execution_count": 11,
   "metadata": {
    "scrolled": true
   },
   "outputs": [
    {
     "name": "stdout",
     "output_type": "stream",
     "text": [
      "1回: parameter = [-0.08599194  0.38742704  0.19842216]\n",
      "10回: parameter = [-0.81937827  0.3913368   0.24012404]\n",
      "20回: parameter = [-1.23260095  0.57876284  0.45861722]\n",
      "30回: parameter = [-1.53806506  0.78290118  0.68644434]\n",
      "40回: parameter = [-1.80221546  0.97258005  0.89465754]\n",
      "50回: parameter = [-2.04136885  1.14514557  1.0818575 ]\n"
     ]
    }
   ],
   "source": [
    "# AND gate\n",
    "x = np.array([[0,0],[0,1],[1,0],[1,1]])\n",
    "t = np.array([0,0,0,1])\n",
    "X = create_matrix(x)\n",
    "parameter = logistic_regression(X,t)"
   ]
  },
  {
   "cell_type": "code",
   "execution_count": 12,
   "metadata": {},
   "outputs": [
    {
     "name": "stderr",
     "output_type": "stream",
     "text": [
      "/var/folders/ks/dtzw0jpn5_zd7nz4v999tjm00000gn/T/ipykernel_39887/137009639.py:1: DeprecationWarning: `np.int` is a deprecated alias for the builtin `int`. To silence this warning, use `int` by itself. Doing this will not modify any behavior and is safe. When replacing `np.int`, you may wish to use e.g. `np.int64` or `np.int32` to specify the precision. If you wish to review your current use, check the release note link for additional information.\n",
      "Deprecated in NumPy 1.20; for more details and guidance: https://numpy.org/devdocs/release/1.20.0-notes.html#deprecations\n",
      "  (sigmoid(create_matrix(np.array([[0,0],[0,1],[0,0],[1,1]])), parameter)>= 0.5).astype(np.int)\n"
     ]
    },
    {
     "data": {
      "text/plain": [
       "array([0, 0, 0, 1])"
      ]
     },
     "execution_count": 12,
     "metadata": {},
     "output_type": "execute_result"
    }
   ],
   "source": [
    "(sigmoid(create_matrix(np.array([[0,0],[0,1],[0,0],[1,1]])), parameter)>= 0.5).astype(np.int)"
   ]
  },
  {
   "cell_type": "code",
   "execution_count": 6,
   "metadata": {
    "scrolled": false
   },
   "outputs": [
    {
     "name": "stdout",
     "output_type": "stream",
     "text": [
      "1回: parameter = [0.09447158 0.00077377 0.60251457]\n",
      "10回: parameter = [ 0.5563592  -0.20073068  0.28579522]\n",
      "20回: parameter = [ 0.93748452 -0.44059803 -0.05310831]\n",
      "30回: parameter = [ 1.25991435 -0.66089311 -0.3506344 ]\n",
      "40回: parameter = [ 1.54678768 -0.8581074  -0.60851519]\n",
      "50回: parameter = [ 1.80675023 -1.03558611 -0.8338241 ]\n"
     ]
    }
   ],
   "source": [
    "# NAND gate\n",
    "x = np.array([[0,0],[0,1],[1,0],[1,1]])\n",
    "t = np.array([1,1,1,0])\n",
    "X = create_matrix(x)\n",
    "parameter = logistic_regression(X,t)"
   ]
  },
  {
   "cell_type": "code",
   "execution_count": 7,
   "metadata": {},
   "outputs": [
    {
     "name": "stderr",
     "output_type": "stream",
     "text": [
      "/var/folders/ks/dtzw0jpn5_zd7nz4v999tjm00000gn/T/ipykernel_39887/137009639.py:1: DeprecationWarning: `np.int` is a deprecated alias for the builtin `int`. To silence this warning, use `int` by itself. Doing this will not modify any behavior and is safe. When replacing `np.int`, you may wish to use e.g. `np.int64` or `np.int32` to specify the precision. If you wish to review your current use, check the release note link for additional information.\n",
      "Deprecated in NumPy 1.20; for more details and guidance: https://numpy.org/devdocs/release/1.20.0-notes.html#deprecations\n",
      "  (sigmoid(create_matrix(np.array([[0,0],[0,1],[0,0],[1,1]])), parameter)>= 0.5).astype(np.int)\n"
     ]
    },
    {
     "data": {
      "text/plain": [
       "array([1, 1, 1, 0])"
      ]
     },
     "execution_count": 7,
     "metadata": {},
     "output_type": "execute_result"
    }
   ],
   "source": [
    "(sigmoid(create_matrix(np.array([[0,0],[0,1],[0,0],[1,1]])), parameter)>= 0.5).astype(np.int)"
   ]
  },
  {
   "cell_type": "code",
   "execution_count": 8,
   "metadata": {
    "scrolled": false
   },
   "outputs": [
    {
     "name": "stdout",
     "output_type": "stream",
     "text": [
      "1回: parameter = [0.92011922 0.26673731 0.76494044]\n",
      "10回: parameter = [0.72950989 0.56608994 1.000276  ]\n",
      "20回: parameter = [0.51565983 0.85559648 1.23040922]\n",
      "30回: parameter = [0.3183897  1.11509661 1.43991162]\n",
      "40回: parameter = [0.14191986 1.35154567 1.63403532]\n",
      "50回: parameter = [-0.01477737  1.56879547  1.81540848]\n"
     ]
    }
   ],
   "source": [
    "# OR gate\n",
    "x = np.array([[0,0],[0,1],[1,0],[1,1]])\n",
    "t = np.array([0,1,1,1])\n",
    "X = create_matrix(x)\n",
    "parameter = logistic_regression(X,t)"
   ]
  },
  {
   "cell_type": "code",
   "execution_count": 9,
   "metadata": {},
   "outputs": [
    {
     "name": "stderr",
     "output_type": "stream",
     "text": [
      "/var/folders/ks/dtzw0jpn5_zd7nz4v999tjm00000gn/T/ipykernel_39887/137009639.py:1: DeprecationWarning: `np.int` is a deprecated alias for the builtin `int`. To silence this warning, use `int` by itself. Doing this will not modify any behavior and is safe. When replacing `np.int`, you may wish to use e.g. `np.int64` or `np.int32` to specify the precision. If you wish to review your current use, check the release note link for additional information.\n",
      "Deprecated in NumPy 1.20; for more details and guidance: https://numpy.org/devdocs/release/1.20.0-notes.html#deprecations\n",
      "  (sigmoid(create_matrix(np.array([[0,0],[0,1],[0,0],[1,1]])), parameter)>= 0.5).astype(np.int)\n"
     ]
    },
    {
     "data": {
      "text/plain": [
       "array([0, 1, 0, 1])"
      ]
     },
     "execution_count": 9,
     "metadata": {},
     "output_type": "execute_result"
    }
   ],
   "source": [
    "(sigmoid(create_matrix(np.array([[0,0],[0,1],[0,0],[1,1]])), parameter)>= 0.5).astype(np.int)"
   ]
  },
  {
   "cell_type": "code",
   "execution_count": null,
   "metadata": {},
   "outputs": [],
   "source": []
  }
 ],
 "metadata": {
  "interpreter": {
   "hash": "ebeb28e6b13eca9129251e1a57a607330dbc2c0e4d49cedd0aa8c47b6d160812"
  },
  "kernelspec": {
   "display_name": "Python 3 (ipykernel)",
   "language": "python",
   "name": "python3"
  },
  "language_info": {
   "codemirror_mode": {
    "name": "ipython",
    "version": 3
   },
   "file_extension": ".py",
   "mimetype": "text/x-python",
   "name": "python",
   "nbconvert_exporter": "python",
   "pygments_lexer": "ipython3",
   "version": "3.8.13"
  }
 },
 "nbformat": 4,
 "nbformat_minor": 2
}
