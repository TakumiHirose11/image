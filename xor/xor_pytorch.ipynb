{
 "cells": [
  {
   "cell_type": "code",
   "execution_count": 1,
   "metadata": {},
   "outputs": [],
   "source": [
    "import numpy as np\n",
    "import torch\n",
    "\n",
    "train = np.array([[0,0],[0,1],[1,0],[1,1]])\n",
    "label = np.array([[0],[1],[1],[0]])\n",
    "\n",
    "train_x = torch.Tensor(train)\n",
    "train_y = torch.Tensor(label)"
   ]
  },
  {
   "cell_type": "code",
   "execution_count": 2,
   "metadata": {},
   "outputs": [
    {
     "data": {
      "text/plain": [
       "MLP(\n",
       "  (fc1): Linear(in_features=2, out_features=2, bias=True)\n",
       "  (fc2): Linear(in_features=2, out_features=1, bias=True)\n",
       ")"
      ]
     },
     "execution_count": 2,
     "metadata": {},
     "output_type": "execute_result"
    }
   ],
   "source": [
    "import torch.nn as nn\n",
    "\n",
    "class MLP(nn.Module):\n",
    "    \"\"\"\n",
    "    l1: hidden layer\n",
    "    l2: output\n",
    "    a1: activation of l1\n",
    "    a2: activation of l2\n",
    "    \"\"\"\n",
    "    def __init__(self, input_dim, hidden_dim, output__dim):\n",
    "        # run init of superclass\n",
    "        super().__init__()\n",
    "        self.fc1 = nn.Linear(\n",
    "            input_dim,\n",
    "            hidden_dim,\n",
    "        )\n",
    "        self.fc2 = nn.Linear(\n",
    "            hidden_dim,\n",
    "            output__dim,\n",
    "        )\n",
    "    \n",
    "    def forward(self, x):\n",
    "        x = self.fc1(x)\n",
    "        x = torch.sigmoid(x)\n",
    "        x = self.fc2(x)\n",
    "        x = torch.sigmoid(x)\n",
    "        return x\n",
    "\n",
    "device = torch.device(\"cuda\" if torch.cuda.is_available() else \"cpu\")\n",
    "model = MLP(2,2,1).to(device)\n",
    "\n",
    "model\n",
    "\n",
    "    "
   ]
  },
  {
   "cell_type": "code",
   "execution_count": 3,
   "metadata": {},
   "outputs": [],
   "source": [
    "import torch.optim\n",
    "crierion = nn.BCELoss()\n",
    "optimizer = torch.optim.SGD(model.parameters(), lr=0.5)"
   ]
  },
  {
   "cell_type": "code",
   "execution_count": 4,
   "metadata": {},
   "outputs": [],
   "source": [
    "def train_step(x, t):\n",
    "    model.train()\n",
    "    outputs = model(x)\n",
    "    loss = crierion(outputs, t)\n",
    "    optimizer.zero_grad()\n",
    "    loss.backward()\n",
    "    optimizer.step()\n",
    "\n",
    "    return loss"
   ]
  },
  {
   "cell_type": "code",
   "execution_count": 6,
   "metadata": {},
   "outputs": [
    {
     "name": "stdout",
     "output_type": "stream",
     "text": [
      "epoch(1000) loss:0.4882\n",
      "epoch(2000) loss:0.0256\n",
      "epoch(3000) loss:0.0112\n",
      "epoch(4000) loss:0.0071\n"
     ]
    }
   ],
   "source": [
    "epochs = 4000\n",
    "for epoch in range(epochs):\n",
    "    epoch_loss = 0.\n",
    "    train_x, train_y = train_x.to(device), train_y.to(device) \n",
    "\n",
    "    loss = train_step(train_x, train_y)\n",
    "    epoch_loss += loss.item()\n",
    "\n",
    "    if(epoch+1)%1000 == 0:\n",
    "        print(\"epoch({}) loss:{:.4f}\".format(epoch+1, epoch_loss))"
   ]
  },
  {
   "cell_type": "code",
   "execution_count": 7,
   "metadata": {},
   "outputs": [
    {
     "name": "stdout",
     "output_type": "stream",
     "text": [
      "tensor([[0.0086],\n",
      "        [0.9936],\n",
      "        [0.9936],\n",
      "        [0.0068]], grad_fn=<SigmoidBackward0>)\n",
      "[[0]\n",
      " [1]\n",
      " [1]\n",
      " [0]]\n"
     ]
    }
   ],
   "source": [
    "outputs = model(train_x)\n",
    "print(outputs)\n",
    "preds = (outputs.to(\"cpu\").detach().numpy().copy() > 0.5).astype(np.int32)\n",
    "\n",
    "print(preds)"
   ]
  },
  {
   "cell_type": "code",
   "execution_count": null,
   "metadata": {},
   "outputs": [],
   "source": []
  }
 ],
 "metadata": {
  "interpreter": {
   "hash": "ebeb28e6b13eca9129251e1a57a607330dbc2c0e4d49cedd0aa8c47b6d160812"
  },
  "kernelspec": {
   "display_name": "Python 3.8.13 ('image')",
   "language": "python",
   "name": "python3"
  },
  "language_info": {
   "codemirror_mode": {
    "name": "ipython",
    "version": 3
   },
   "file_extension": ".py",
   "mimetype": "text/x-python",
   "name": "python",
   "nbconvert_exporter": "python",
   "pygments_lexer": "ipython3",
   "version": "3.8.13"
  },
  "orig_nbformat": 4
 },
 "nbformat": 4,
 "nbformat_minor": 2
}
